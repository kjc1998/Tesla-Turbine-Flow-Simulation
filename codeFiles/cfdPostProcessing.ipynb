{
 "cells": [
  {
   "cell_type": "code",
   "execution_count": 2,
   "id": "c1c98494",
   "metadata": {},
   "outputs": [],
   "source": [
    "import os\n",
    "import numpy as np\n",
    "\n",
    "#testCase\n",
    "baseFolder = \"E:\\\\UoS\\\\UoS Y4\\\\GDP Tesla Turbine\\\\Simulation Code\\\\codeFiles\\\\xyCFD\\\\\"\n",
    "\n",
    "xList, yList = [], []\n",
    "with open(baseFolder + 'VRadGap1', 'r') as f:\n",
    "    for line in f:\n",
    "        line = line.strip()\n",
    "        dataPoints = line.split()\n",
    "        try:\n",
    "            x, y = [float(x) for x in dataPoints]\n",
    "            xList.append(x)\n",
    "            yList.append(y)\n",
    "        except:\n",
    "            pass"
   ]
  },
  {
   "cell_type": "code",
   "execution_count": 96,
   "id": "b3dc5041",
   "metadata": {},
   "outputs": [],
   "source": [
    "def postProcess(*args):\n",
    "    numberFilesRead = len(args)\n",
    "    baseFolder = \"E:\\\\UoS\\\\UoS Y4\\\\GDP Tesla Turbine\\\\Simulation Code\\\\codeFiles\\\\xyCFD\\\\\"\n",
    "    bigX, bigY = [], [] # x y collections\n",
    "    for i in range(len(args)):\n",
    "        fileName = args[i]\n",
    "        xList, yList = [], []\n",
    "        with open(baseFolder + fileName, 'r') as f:\n",
    "            for line in f:\n",
    "                line = line.strip()\n",
    "                dataPoints = line.split()\n",
    "                try:\n",
    "                    x, y = [float(x) for x in dataPoints]\n",
    "                    xList.append(x)\n",
    "                    yList.append(y)\n",
    "                except:\n",
    "                    pass\n",
    "        bigX.append(xList)\n",
    "        bigY.append(yList)\n",
    "    bigX, bigY = np.array(bigX)/np.amax(bigX), np.array(bigY)\n",
    "    aveX, aveY = np.average(bigX,0), np.average(bigY,0)\n",
    "    return bigX, bigY, aveX, aveY\n",
    "    # average Function\n",
    "def rakeProcess(args):\n",
    "    baseFolder = \"E:\\\\UoS\\\\UoS Y4\\\\GDP Tesla Turbine\\\\Simulation Code\\\\codeFiles\\\\xyCFD\\\\\"\n",
    "    fileName = args\n",
    "    storeDict = {}\n",
    "    with open(baseFolder + fileName, 'r') as f:\n",
    "        previousString = \"\"\n",
    "        for line in f:\n",
    "            line = line.strip()\n",
    "            dataPoints = line.split()\n",
    "            try:\n",
    "                xyList = [float(x) for x in dataPoints]\n",
    "                try:\n",
    "                    storeDict[previousString].append(xyList)\n",
    "                except:\n",
    "                    if xyList == []:\n",
    "                        pass\n",
    "                    else:\n",
    "                        storeDict[previousString] = [xyList]\n",
    "            except:\n",
    "                previousString = line[16:-2] #extracting rake line string only\n",
    "    for i in storeDict:\n",
    "        storeDict[i] = np.array(storeDict[i])\n",
    "    return storeDict"
   ]
  }
 ],
 "metadata": {
  "kernelspec": {
   "display_name": "Python 3",
   "language": "python",
   "name": "python3"
  },
  "language_info": {
   "codemirror_mode": {
    "name": "ipython",
    "version": 3
   },
   "file_extension": ".py",
   "mimetype": "text/x-python",
   "name": "python",
   "nbconvert_exporter": "python",
   "pygments_lexer": "ipython3",
   "version": "3.7.10"
  }
 },
 "nbformat": 4,
 "nbformat_minor": 5
}
