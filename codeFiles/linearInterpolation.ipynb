{
 "cells": [
  {
   "cell_type": "code",
   "execution_count": 5,
   "id": "dc3d15fd",
   "metadata": {},
   "outputs": [],
   "source": [
    "import pandas as pd\n",
    "import os\n",
    "from enum import Enum\n",
    "import numpy as np\n",
    "import scipy\n",
    "from numpy import sqrt, sin, cos, tan, pi\n",
    "from scipy.integrate import odeint\n",
    "from scipy.interpolate import InterpolatedUnivariateSpline\n",
    "import matplotlib as mpl\n",
    "import matplotlib.pyplot as plt\n",
    "import matplotlib.ticker as mtick\n",
    "from matplotlib import ticker, cm\n",
    "from matplotlib import ticker\n",
    "from scipy.optimize import minimize\n",
    "from scipy.optimize import Bounds"
   ]
  },
  {
   "cell_type": "code",
   "execution_count": 11,
   "id": "4eea2101",
   "metadata": {},
   "outputs": [],
   "source": [
    "def interpolate(x, xs, ys):\n",
    "    '''Must be Numpy Format'''\n",
    "    if len(xs)!=len(ys):\n",
    "        raise Exception(\"Arrays not of the same length\")\n",
    "    xs = xs.flatten()\n",
    "    ys = ys.flatten()\n",
    "    if xs[-1]<xs[0]:\n",
    "        xs = np.flip(xs)\n",
    "        ys = np.flip(ys)\n",
    "    ans = None\n",
    "    for i in range(len(xs)):\n",
    "        if x > xs[i]:\n",
    "            continue\n",
    "        else:\n",
    "            if x==xs[i]:\n",
    "                ans = ys[i]\n",
    "            else:\n",
    "                if i>0:\n",
    "                    xGrad = (x-xs[i-1])/(xs[i]-xs[i-1])\n",
    "                    yDiff = ys[i] - ys[i-1]\n",
    "                    ans = xGrad*yDiff + ys[i-1]\n",
    "                    break\n",
    "                else:\n",
    "                    ans = ys[i]\n",
    "                    break\n",
    "    ans = ys[-1] if ans==None else ans\n",
    "    return ans"
   ]
  },
  {
   "cell_type": "code",
   "execution_count": null,
   "id": "996876e6",
   "metadata": {},
   "outputs": [],
   "source": []
  }
 ],
 "metadata": {
  "kernelspec": {
   "display_name": "Python 3",
   "language": "python",
   "name": "python3"
  },
  "language_info": {
   "codemirror_mode": {
    "name": "ipython",
    "version": 3
   },
   "file_extension": ".py",
   "mimetype": "text/x-python",
   "name": "python",
   "nbconvert_exporter": "python",
   "pygments_lexer": "ipython3",
   "version": "3.7.10"
  }
 },
 "nbformat": 4,
 "nbformat_minor": 5
}
